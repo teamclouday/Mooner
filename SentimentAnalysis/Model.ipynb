{
 "cells": [
  {
   "cell_type": "code",
   "execution_count": 1,
   "metadata": {},
   "outputs": [],
   "source": [
    "import os\n",
    "import pickle\n",
    "import numpy as np\n",
    "import pandas as pd\n",
    "import tensorflow as tf"
   ]
  },
  {
   "cell_type": "code",
   "execution_count": 2,
   "metadata": {},
   "outputs": [
    {
     "name": "stdout",
     "output_type": "stream",
     "text": [
      "2.1.0\n",
      "[PhysicalDevice(name='/physical_device:GPU:0', device_type='GPU')]\n"
     ]
    }
   ],
   "source": [
    "print(tf.__version__)\n",
    "print(tf.config.list_physical_devices('GPU'))"
   ]
  },
  {
   "cell_type": "markdown",
   "metadata": {},
   "source": [
    "## Load Data"
   ]
  },
  {
   "cell_type": "code",
   "execution_count": 3,
   "metadata": {},
   "outputs": [],
   "source": [
    "with open(os.path.join(\"dataset\", \"sentiment140\", \"data.pickle\"), \"rb\") as inFile:\n",
    "    data = pickle.load(inFile)\n",
    "X_train = data[0]\n",
    "y_train = data[1]"
   ]
  },
  {
   "cell_type": "code",
   "execution_count": 4,
   "metadata": {},
   "outputs": [],
   "source": [
    "PAD_MAXLEN = 45\n",
    "MAX_FEATURES = 20000"
   ]
  },
  {
   "cell_type": "markdown",
   "metadata": {},
   "source": [
    "## Get Mini Data for Experiment"
   ]
  },
  {
   "cell_type": "markdown",
   "metadata": {},
   "source": [
    "The training data is very huge.  \n",
    "To experiment with different model structures and parameters, can select mini data for experimental training.  \n",
    "\n",
    "```python\n",
    "from sklearn.model_selection import train_test_split\n",
    "_, X_train_mini, _, y_train_mini = train_test_split(X_train, y_train, test_size=0.1)\n",
    "print(X_train_mini.shape, y_train_mini.shape)\n",
    "```"
   ]
  },
  {
   "cell_type": "markdown",
   "metadata": {},
   "source": [
    "## Create Model"
   ]
  },
  {
   "cell_type": "code",
   "execution_count": 6,
   "metadata": {},
   "outputs": [
    {
     "name": "stdout",
     "output_type": "stream",
     "text": [
      "Model: \"sequential\"\n",
      "_________________________________________________________________\n",
      "Layer (type)                 Output Shape              Param #   \n",
      "=================================================================\n",
      "embedding (Embedding)        (None, 45, 128)           2560000   \n",
      "_________________________________________________________________\n",
      "dropout (Dropout)            (None, 45, 128)           0         \n",
      "_________________________________________________________________\n",
      "conv1d (Conv1D)              (None, 41, 256)           164096    \n",
      "_________________________________________________________________\n",
      "max_pooling1d (MaxPooling1D) (None, 10, 256)           0         \n",
      "_________________________________________________________________\n",
      "bidirectional (Bidirectional (None, 160)               215680    \n",
      "_________________________________________________________________\n",
      "dense (Dense)                (None, 1)                 161       \n",
      "=================================================================\n",
      "Total params: 2,939,937\n",
      "Trainable params: 2,939,937\n",
      "Non-trainable params: 0\n",
      "_________________________________________________________________\n",
      "Train on 1213299 samples, validate on 303325 samples\n",
      "Epoch 1/20\n",
      "1213299/1213299 [==============================] - 207s 171us/sample - loss: 0.6527 - accuracy: 0.6270 - val_loss: 0.6020 - val_accuracy: 0.7918\n",
      "Epoch 2/20\n",
      "1213299/1213299 [==============================] - 202s 166us/sample - loss: 0.5947 - accuracy: 0.7963 - val_loss: 0.5973 - val_accuracy: 0.8072\n",
      "Epoch 3/20\n",
      "1213299/1213299 [==============================] - 200s 165us/sample - loss: 0.5881 - accuracy: 0.8122 - val_loss: 0.5928 - val_accuracy: 0.8074\n",
      "Epoch 4/20\n",
      "1213299/1213299 [==============================] - 197s 163us/sample - loss: 0.5839 - accuracy: 0.8219 - val_loss: 0.5922 - val_accuracy: 0.8099\n",
      "Epoch 5/20\n",
      "1213299/1213299 [==============================] - 198s 163us/sample - loss: 0.5806 - accuracy: 0.8296 - val_loss: 0.5939 - val_accuracy: 0.8132\n",
      "Epoch 6/20\n",
      "1213299/1213299 [==============================] - 198s 163us/sample - loss: 0.5781 - accuracy: 0.8353 - val_loss: 0.5930 - val_accuracy: 0.8130\n",
      "Epoch 7/20\n",
      "1213299/1213299 [==============================] - 197s 163us/sample - loss: 0.5759 - accuracy: 0.8403 - val_loss: 0.5933 - val_accuracy: 0.8133\n"
     ]
    },
    {
     "data": {
      "text/plain": [
       "<tensorflow.python.keras.callbacks.History at 0x211e9049940>"
      ]
     },
     "execution_count": 6,
     "metadata": {},
     "output_type": "execute_result"
    }
   ],
   "source": [
    "tf.keras.backend.clear_session()\n",
    "\n",
    "model = tf.keras.Sequential()\n",
    "model.add(tf.keras.layers.Embedding(MAX_FEATURES, 128, input_length=PAD_MAXLEN))\n",
    "model.add(tf.keras.layers.Dropout(0.2))\n",
    "model.add(tf.keras.layers.Conv1D(256, 5, padding='valid', activation='relu', strides=1))\n",
    "model.add(tf.keras.layers.MaxPooling1D(pool_size=4))\n",
    "#model.add(tf.keras.layers.GlobalMaxPooling1D())\n",
    "model.add(tf.keras.layers.Bidirectional(tf.keras.layers.LSTM(80)))\n",
    "#model.add(tf.keras.layers.Dense(200, activation=\"relu\"))\n",
    "#model.add(tf.keras.layers.Dropout(0.2))\n",
    "model.add(tf.keras.layers.Dense(1, activation=\"sigmoid\"))\n",
    "model.compile(loss=tf.keras.losses.BinaryCrossentropy(from_logits=True),\n",
    "              optimizer=tf.keras.optimizers.Adam(learning_rate=0.0005),\n",
    "              #optimizer=tf.keras.optimizers.RMSprop(learning_rate=0.0005),\n",
    "              metrics=['accuracy'])\n",
    "model.summary()\n",
    "\n",
    "callbacks = [tf.keras.callbacks.EarlyStopping(monitor='val_loss', patience=3)]\n",
    "\n",
    "model.fit(X_train, y_train, batch_size=128, epochs=20, validation_split=0.2, verbose=1, callbacks=callbacks)"
   ]
  },
  {
   "cell_type": "code",
   "execution_count": 7,
   "metadata": {},
   "outputs": [],
   "source": [
    "if not os.path.exists(\"models\"):\n",
    "    os.makedirs(\"models\")\n",
    "model.save(os.path.join(\"models\", \"cnn.h5\"), save_format=\"tf\")"
   ]
  }
 ],
 "metadata": {
  "kernelspec": {
   "display_name": "Python 3",
   "language": "python",
   "name": "python3"
  },
  "language_info": {
   "codemirror_mode": {
    "name": "ipython",
    "version": 3
   },
   "file_extension": ".py",
   "mimetype": "text/x-python",
   "name": "python",
   "nbconvert_exporter": "python",
   "pygments_lexer": "ipython3",
   "version": "3.6.8"
  }
 },
 "nbformat": 4,
 "nbformat_minor": 4
}
