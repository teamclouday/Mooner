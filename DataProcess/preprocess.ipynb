{
 "nbformat": 4,
 "nbformat_minor": 2,
 "metadata": {
  "language_info": {
   "name": "python",
   "codemirror_mode": {
    "name": "ipython",
    "version": 3
   },
   "version": "3.6.8-final"
  },
  "orig_nbformat": 2,
  "file_extension": ".py",
  "mimetype": "text/x-python",
  "name": "python",
  "npconvert_exporter": "python",
  "pygments_lexer": "ipython3",
  "version": 3,
  "kernelspec": {
   "name": "python36864bit1ec1cdde4d2c4e69a8dd2b0d0fdcaf78",
   "display_name": "Python 3.6.8 64-bit"
  }
 },
 "cells": [
  {
   "cell_type": "markdown",
   "metadata": {},
   "source": [
    "# Preprocess Tweets"
   ]
  },
  {
   "cell_type": "code",
   "execution_count": 1,
   "metadata": {},
   "outputs": [],
   "source": [
    "import os\n",
    "import re\n",
    "import numpy as np\n",
    "import pandas as pd"
   ]
  },
  {
   "cell_type": "code",
   "execution_count": 2,
   "metadata": {},
   "outputs": [
    {
     "output_type": "execute_result",
     "data": {
      "text/plain": "    User ID                                              Tweet\n0  44196397  @stephenpallotta @ajtourville @Teslarati Yes. ...\n1  44196397  @PPathole @austinbarnard45 @LabPadre Pretty mu...\n2  44196397  We have extra FDA-approved ventilators. Will s...\n3  44196397  @brandonbernicky @thirdrowtesla Hoping to roll...\n4  44196397  @SteveHamel16 @JordanWells33 @hereforthecom19 ...\n5  44196397  @thirdrowtesla Homelink is 3rd party hardware ...\n6  44196397  @NYCMayor Biggest value Tesla is providing is ...\n7  44196397  @PPathole @flcnhvy @Tesla C19 testing in the U...\n8  44196397  @28delayslater @thirdrowtesla Invasive ventila...\n9  44196397  @kimitalvitie Yes, v close! Nice work. Those a...",
      "text/html": "<div>\n<style scoped>\n    .dataframe tbody tr th:only-of-type {\n        vertical-align: middle;\n    }\n\n    .dataframe tbody tr th {\n        vertical-align: top;\n    }\n\n    .dataframe thead th {\n        text-align: right;\n    }\n</style>\n<table border=\"1\" class=\"dataframe\">\n  <thead>\n    <tr style=\"text-align: right;\">\n      <th></th>\n      <th>User ID</th>\n      <th>Tweet</th>\n    </tr>\n  </thead>\n  <tbody>\n    <tr>\n      <th>0</th>\n      <td>44196397</td>\n      <td>@stephenpallotta @ajtourville @Teslarati Yes. ...</td>\n    </tr>\n    <tr>\n      <th>1</th>\n      <td>44196397</td>\n      <td>@PPathole @austinbarnard45 @LabPadre Pretty mu...</td>\n    </tr>\n    <tr>\n      <th>2</th>\n      <td>44196397</td>\n      <td>We have extra FDA-approved ventilators. Will s...</td>\n    </tr>\n    <tr>\n      <th>3</th>\n      <td>44196397</td>\n      <td>@brandonbernicky @thirdrowtesla Hoping to roll...</td>\n    </tr>\n    <tr>\n      <th>4</th>\n      <td>44196397</td>\n      <td>@SteveHamel16 @JordanWells33 @hereforthecom19 ...</td>\n    </tr>\n    <tr>\n      <th>5</th>\n      <td>44196397</td>\n      <td>@thirdrowtesla Homelink is 3rd party hardware ...</td>\n    </tr>\n    <tr>\n      <th>6</th>\n      <td>44196397</td>\n      <td>@NYCMayor Biggest value Tesla is providing is ...</td>\n    </tr>\n    <tr>\n      <th>7</th>\n      <td>44196397</td>\n      <td>@PPathole @flcnhvy @Tesla C19 testing in the U...</td>\n    </tr>\n    <tr>\n      <th>8</th>\n      <td>44196397</td>\n      <td>@28delayslater @thirdrowtesla Invasive ventila...</td>\n    </tr>\n    <tr>\n      <th>9</th>\n      <td>44196397</td>\n      <td>@kimitalvitie Yes, v close! Nice work. Those a...</td>\n    </tr>\n  </tbody>\n</table>\n</div>"
     },
     "metadata": {},
     "execution_count": 2
    }
   ],
   "source": [
    "tweets_raw = pd.read_csv(\"tweets_200.csv\")\n",
    "tweets_raw.head(10)"
   ]
  },
  {
   "cell_type": "code",
   "execution_count": 3,
   "metadata": {},
   "outputs": [],
   "source": [
    "def convert_string(text):\n",
    "    # remove emojis\n",
    "    text = re.sub(r\"(\\u00a9|\\u00ae|[\\u2000-\\u3300]|\\ud83c[\\ud000-\\udfff]|\\ud83d[\\ud000-\\udfff]|\\ud83e[\\ud000-\\udfff])\", \"\", text)\n",
    "    # remove non-ascii characters \n",
    "    text = re.sub(r\"[^\\x00-\\x7f]\", \"\", text)\n",
    "    # remove @usernames\n",
    "    text = re.sub(r\"(@|#)([A-Z]|[a-z]|[0-9]|_)+\", \"\", text)\n",
    "    # remove urls\n",
    "    text = re.sub(r\"(http|https)://([A-Z]|[a-z]|[0-9]|/|\\.)+\", \"\", text)\n",
    "    # remove spaces\n",
    "    text = text.strip()\n",
    "    # return\n",
    "    return text"
   ]
  },
  {
   "cell_type": "code",
   "execution_count": 4,
   "metadata": {},
   "outputs": [
    {
     "output_type": "execute_result",
     "data": {
      "text/plain": "    User ID                                              Tweet\n0  44196397  Yes. PCB design techniques applied to create a...\n1  44196397  Pretty much. Good news is that this was a test...\n2  44196397  We have extra FDA-approved ventilators. Will s...\n3  44196397  Hoping to roll out traffic lights &amp; stops ...\n4  44196397  Yup, China had an oversupply, so we bought 125...\n5  44196397  Homelink is 3rd party hardware that increases ...\n6  44196397  Biggest value Tesla is providing is precise de...\n7  44196397  C19 testing in the US over the past week has g...\n8  44196397  Invasive ventilators are for worst case patien...\n9  44196397  Yes, v close! Nice work. Those are V0.9 legs, ...",
      "text/html": "<div>\n<style scoped>\n    .dataframe tbody tr th:only-of-type {\n        vertical-align: middle;\n    }\n\n    .dataframe tbody tr th {\n        vertical-align: top;\n    }\n\n    .dataframe thead th {\n        text-align: right;\n    }\n</style>\n<table border=\"1\" class=\"dataframe\">\n  <thead>\n    <tr style=\"text-align: right;\">\n      <th></th>\n      <th>User ID</th>\n      <th>Tweet</th>\n    </tr>\n  </thead>\n  <tbody>\n    <tr>\n      <th>0</th>\n      <td>44196397</td>\n      <td>Yes. PCB design techniques applied to create a...</td>\n    </tr>\n    <tr>\n      <th>1</th>\n      <td>44196397</td>\n      <td>Pretty much. Good news is that this was a test...</td>\n    </tr>\n    <tr>\n      <th>2</th>\n      <td>44196397</td>\n      <td>We have extra FDA-approved ventilators. Will s...</td>\n    </tr>\n    <tr>\n      <th>3</th>\n      <td>44196397</td>\n      <td>Hoping to roll out traffic lights &amp;amp; stops ...</td>\n    </tr>\n    <tr>\n      <th>4</th>\n      <td>44196397</td>\n      <td>Yup, China had an oversupply, so we bought 125...</td>\n    </tr>\n    <tr>\n      <th>5</th>\n      <td>44196397</td>\n      <td>Homelink is 3rd party hardware that increases ...</td>\n    </tr>\n    <tr>\n      <th>6</th>\n      <td>44196397</td>\n      <td>Biggest value Tesla is providing is precise de...</td>\n    </tr>\n    <tr>\n      <th>7</th>\n      <td>44196397</td>\n      <td>C19 testing in the US over the past week has g...</td>\n    </tr>\n    <tr>\n      <th>8</th>\n      <td>44196397</td>\n      <td>Invasive ventilators are for worst case patien...</td>\n    </tr>\n    <tr>\n      <th>9</th>\n      <td>44196397</td>\n      <td>Yes, v close! Nice work. Those are V0.9 legs, ...</td>\n    </tr>\n  </tbody>\n</table>\n</div>"
     },
     "metadata": {},
     "execution_count": 4
    }
   ],
   "source": [
    "tweets = tweets_raw.copy()\n",
    "tweets[\"Tweet\"] = tweets[\"Tweet\"].apply(convert_string)\n",
    "tweets.head(10)"
   ]
  },
  {
   "cell_type": "code",
   "execution_count": 5,
   "metadata": {},
   "outputs": [
    {
     "output_type": "execute_result",
     "data": {
      "text/plain": "(313536, 2)"
     },
     "metadata": {},
     "execution_count": 5
    }
   ],
   "source": [
    "tweets.shape"
   ]
  },
  {
   "cell_type": "code",
   "execution_count": 6,
   "metadata": {},
   "outputs": [
    {
     "output_type": "execute_result",
     "data": {
      "text/plain": "    User ID                                              Tweet\n0  44196397  Yes. PCB design techniques applied to create a...\n1  44196397  Pretty much. Good news is that this was a test...\n2  44196397  We have extra FDA-approved ventilators. Will s...\n3  44196397  Hoping to roll out traffic lights &amp; stops ...\n4  44196397  Yup, China had an oversupply, so we bought 125...",
      "text/html": "<div>\n<style scoped>\n    .dataframe tbody tr th:only-of-type {\n        vertical-align: middle;\n    }\n\n    .dataframe tbody tr th {\n        vertical-align: top;\n    }\n\n    .dataframe thead th {\n        text-align: right;\n    }\n</style>\n<table border=\"1\" class=\"dataframe\">\n  <thead>\n    <tr style=\"text-align: right;\">\n      <th></th>\n      <th>User ID</th>\n      <th>Tweet</th>\n    </tr>\n  </thead>\n  <tbody>\n    <tr>\n      <th>0</th>\n      <td>44196397</td>\n      <td>Yes. PCB design techniques applied to create a...</td>\n    </tr>\n    <tr>\n      <th>1</th>\n      <td>44196397</td>\n      <td>Pretty much. Good news is that this was a test...</td>\n    </tr>\n    <tr>\n      <th>2</th>\n      <td>44196397</td>\n      <td>We have extra FDA-approved ventilators. Will s...</td>\n    </tr>\n    <tr>\n      <th>3</th>\n      <td>44196397</td>\n      <td>Hoping to roll out traffic lights &amp;amp; stops ...</td>\n    </tr>\n    <tr>\n      <th>4</th>\n      <td>44196397</td>\n      <td>Yup, China had an oversupply, so we bought 125...</td>\n    </tr>\n  </tbody>\n</table>\n</div>"
     },
     "metadata": {},
     "execution_count": 6
    }
   ],
   "source": [
    "# remove empty columns and one-word columns\n",
    "tweets.drop(tweets[\"Tweet\"][tweets[\"Tweet\"] == \"\"].index, inplace=True)\n",
    "tweets = tweets[tweets[\"Tweet\"].str.contains(\" \")] # need at least one space for at least 2 words\n",
    "tweets.drop_duplicates(inplace=True)\n",
    "tweets.reset_index(drop=True)\n",
    "tweets.head(5)"
   ]
  },
  {
   "cell_type": "code",
   "execution_count": 7,
   "metadata": {},
   "outputs": [
    {
     "output_type": "execute_result",
     "data": {
      "text/plain": "(300785, 2)"
     },
     "metadata": {},
     "execution_count": 7
    }
   ],
   "source": [
    "tweets.shape"
   ]
  },
  {
   "cell_type": "code",
   "execution_count": 8,
   "metadata": {},
   "outputs": [],
   "source": [
    "tweets.to_csv(\"tweets_200_processed.csv\", index=False)"
   ]
  }
 ]
}